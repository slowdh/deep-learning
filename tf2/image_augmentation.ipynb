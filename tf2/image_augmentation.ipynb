{
  "nbformat": 4,
  "nbformat_minor": 0,
  "metadata": {
    "colab": {
      "name": "iamge_augmentation.ipynb",
      "provenance": [],
      "collapsed_sections": []
    },
    "kernelspec": {
      "name": "python3",
      "display_name": "Python 3"
    },
    "language_info": {
      "name": "python"
    }
  },
  "cells": [
    {
      "cell_type": "code",
      "metadata": {
        "id": "m0JpChaIB6wf"
      },
      "source": [
        "import matplotlib.pyplot as plt\n",
        "import numpy as np\n",
        "from tensorflow.keras.datasets import cifar10\n",
        "from tensorflow.keras.preprocessing.image import ImageDataGenerator"
      ],
      "execution_count": 1,
      "outputs": []
    },
    {
      "cell_type": "code",
      "metadata": {
        "id": "wl1EQ9WrCCSc"
      },
      "source": [
        "def get_generator(x, y, batch_size=1):\n",
        "    for i in range(len(x) // batch_size):\n",
        "        yield (x[i * batch_size: (i + 1) * batch_size], y[i * batch_size: (i + 1) * batch_size])\n",
        "\n",
        "def monochrome(x):\n",
        "    def _average_color_channel(a):\n",
        "        averaged = np.mean(a)\n",
        "        return [averaged, averaged, averaged]\n",
        "    x = np.apply_along_axis(_average_color_channel, -1, x)\n",
        "    return x"
      ],
      "execution_count": 2,
      "outputs": []
    },
    {
      "cell_type": "code",
      "metadata": {
        "id": "BYh_XGcLCEKA"
      },
      "source": [
        "(x_train, y_train), (x_test, y_test) = cifar10.load_data()\n",
        "train_generator = get_generator(x_train, y_train)\n",
        "\n",
        "image_generator = ImageDataGenerator(preprocessing_function=monochrome, horizontal_flip=True, height_shift_range=0.2, rotation_range=30, rescale=1/255.)\n",
        "image_generator.fit(x_train)\n",
        "image_generator_iterable = image_generator.flow(x=x_train,y=y_train, batch_size=1, shuffle=False)"
      ],
      "execution_count": 18,
      "outputs": []
    },
    {
      "cell_type": "code",
      "metadata": {
        "colab": {
          "base_uri": "https://localhost:8080/",
          "height": 199
        },
        "id": "MRltASRdCHLg",
        "outputId": "698e21d1-a978-4aad-cfc8-d57332d08cfb"
      },
      "source": [
        "image_transformed, label_transformed = next(image_generator_iterable)\n",
        "image_orig, label_orig = next(train_generator)\n",
        "fig, ax = plt.subplots(1, 2)\n",
        "ax[0].imshow(image_orig[0])\n",
        "ax[0].set_title(\"Original\")\n",
        "ax[0].set_axis_off()\n",
        "ax[1].imshow(image_transformed[0])\n",
        "ax[1].set_title(\"Transformed\")\n",
        "ax[1].set_axis_off()\n",
        "plt.show()"
      ],
      "execution_count": 20,
      "outputs": [
        {
          "output_type": "display_data",
          "data": {
            "image/png": "[encoded data removed]",
            "text/plain": [
              "<Figure size 432x288 with 2 Axes>"
            ]
          },
          "metadata": {
            "tags": [],
            "needs_background": "light"
          }
        }
      ]
    },
    {
      "cell_type": "code",
      "metadata": {
        "id": "CN3HqAv7Cf-z"
      },
      "source": [
        ""
      ],
      "execution_count": null,
      "outputs": []
    }
  ]
}
