{
 "cells": [
  {
   "cell_type": "code",
   "execution_count": 1,
   "metadata": {},
   "outputs": [],
   "source": [
    "import numpy as np\n",
    "import h5py\n",
    "import matplotlib.pyplot as plt\n",
    "\n",
    "%matplotlib inline\n",
    "np.random.seed(1)"
   ]
  },
  {
   "cell_type": "code",
   "execution_count": 2,
   "metadata": {},
   "outputs": [],
   "source": [
    "def sigmoid(x):\n",
    "    a = 1 / (1 + np.exp(-x))\n",
    "    return a\n",
    "\n",
    "def relu(x):\n",
    "    a = np.maximum(0, x)\n",
    "    return a\n",
    "\n",
    "def sigmoid_derivative(x):\n",
    "    s = sigmoid(x)\n",
    "    d = s * (1 - s)\n",
    "    return d\n",
    "\n",
    "def relu_derivative(x):\n",
    "    c = x.copy()\n",
    "    c[c<0] = 0\n",
    "    c[c>=0] = 1\n",
    "    return c"
   ]
  },
  {
   "cell_type": "code",
   "execution_count": 3,
   "metadata": {},
   "outputs": [],
   "source": [
    "def initialize_parameters(layer_dims):\n",
    "    parameters = {}\n",
    "    for i in range(1, len(layer_dims)):\n",
    "        parameters[\"W\" + str(i)] = np.random.randn(layer_dims[i], layer_dims[i-1])\n",
    "        parameters[\"b\" + str(i)] = np.zeros((layer_dims[i], 1))\n",
    "    return parameters"
   ]
  },
  {
   "cell_type": "code",
   "execution_count": 4,
   "metadata": {},
   "outputs": [],
   "source": [
    "def layer_forward(A_prev, W, b, activation):\n",
    "    Z = np.dot(W, A_prev) + b\n",
    "    \n",
    "    if activation == 'sigmoid':\n",
    "        A = sigmoid(Z)\n",
    "    elif activation == 'relu':\n",
    "        A = relu(Z)\n",
    "    \n",
    "    cache = (A_prev, W, b, Z)\n",
    "    return A, cache"
   ]
  },
  {
   "cell_type": "code",
   "execution_count": 5,
   "metadata": {},
   "outputs": [],
   "source": [
    "def model_forward(X, parameters):\n",
    "    caches = []\n",
    "    \n",
    "    l = len(parameters) // 2\n",
    "    A = X\n",
    "    \n",
    "    # 1 - (n-1) layer activation: relu\n",
    "    for i in range(1, l):\n",
    "        A, cache = layer_forward(A, parameters[\"W\" + str(i)], parameters[\"b\" + str(i)], \"relu\")\n",
    "        caches.append(cache)\n",
    "        \n",
    "    # last layer activation: sigmoid\n",
    "    A, cache = layer_forward(A, parameters[\"W\" + str(l)], parameters[\"b\" + str(l)], \"sigmoid\")\n",
    "    caches.append(cache)\n",
    "    \n",
    "    return A, caches"
   ]
  },
  {
   "cell_type": "code",
   "execution_count": 6,
   "metadata": {},
   "outputs": [],
   "source": [
    "def compute_cost(A, Y):\n",
    "    m = Y.shape[1]\n",
    "    cost = -1 / m * (np.sum(Y * np.log(A)) + np.sum((1 - Y) * np.log(1 - A)))\n",
    "    cost = np.squeeze(cost)\n",
    "    return cost"
   ]
  },
  {
   "cell_type": "code",
   "execution_count": 10,
   "metadata": {},
   "outputs": [],
   "source": [
    "def layer_backward(dA, cache, activation):\n",
    "    A_prev, W, b, Z = cache\n",
    "    m = dA.shape[1]\n",
    "    \n",
    "    if activation == 'sigmoid':\n",
    "        dZ = dA * sigmoid_derivative(Z)\n",
    "    elif activation == 'relu':\n",
    "        dZ = dA * relu_derivative(Z)\n",
    "    \n",
    "    dW = 1 / m * np.dot(dZ, A_prev.T)\n",
    "    db = 1 / m * np.sum(dZ, axis=1, keepdims=True)\n",
    "    dA_prev = np.dot(W.T, dZ)\n",
    "    \n",
    "    return dA_prev, dW, db"
   ]
  },
  {
   "cell_type": "code",
   "execution_count": 11,
   "metadata": {},
   "outputs": [],
   "source": [
    "def model_backward(AL, Y, caches):\n",
    "    grads = {}\n",
    "    l = len(caches)\n",
    "    m = AL.shape[1]\n",
    "    \n",
    "    dA = - (Y / AL - (1 - Y) / (1 - AL))\n",
    "    dA, dW, db = layer_backward(dA, caches[-1], 'sigmoid')\n",
    "    grads[\"dW\" + str(l)] = dW\n",
    "    grads[\"db\" + str(l)] = db\n",
    "    \n",
    "    for i in range(l - 1, -1, -1):\n",
    "        dA, dW, db = layer_backward(dA, caches[-1], 'relu')\n",
    "        grads[\"dW\" + str(i + 1)] = dW\n",
    "        grads[\"db\" + str(i + 1)] = db\n",
    "    \n",
    "    return grads"
   ]
  },
  {
   "cell_type": "code",
   "execution_count": 12,
   "metadata": {},
   "outputs": [],
   "source": [
    "def update_parameters(parameters, grads, learning_rate):\n",
    "    l = parameters // 2\n",
    "    for i in range(l):\n",
    "        parameters[\"W\" + str(i + 1)] -= learning_rate * grads[\"dW\" + str(i + 1)]\n",
    "        parameters[\"b\" + str(i + 1)] -= learning_rate * grads[\"db\" + str(i + 1)]\n",
    "        \n",
    "    return parameters"
   ]
  }
 ],
 "metadata": {
  "kernelspec": {
   "display_name": "Python 3",
   "language": "python",
   "name": "python3"
  },
  "language_info": {
   "codemirror_mode": {
    "name": "ipython",
    "version": 3
   },
   "file_extension": ".py",
   "mimetype": "text/x-python",
   "name": "python",
   "nbconvert_exporter": "python",
   "pygments_lexer": "ipython3",
   "version": "3.7.6"
  }
 },
 "nbformat": 4,
 "nbformat_minor": 4
}
